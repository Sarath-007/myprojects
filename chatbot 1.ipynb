{
 "cells": [
  {
   "cell_type": "code",
   "execution_count": 28,
   "id": "30f1cd1a",
   "metadata": {},
   "outputs": [
    {
     "ename": "TypeError",
     "evalue": "'module' object is not callable",
     "output_type": "error",
     "traceback": [
      "\u001b[1;31m---------------------------------------------------------------------------\u001b[0m",
      "\u001b[1;31mTypeError\u001b[0m                                 Traceback (most recent call last)",
      "\u001b[1;32m<ipython-input-28-ef3b0f159cdf>\u001b[0m in \u001b[0;36m<module>\u001b[1;34m\u001b[0m\n\u001b[0;32m      1\u001b[0m \u001b[1;32mimport\u001b[0m \u001b[0mtelegram\u001b[0m\u001b[1;33m\u001b[0m\u001b[1;33m\u001b[0m\u001b[0m\n\u001b[1;32m----> 2\u001b[1;33m \u001b[0mBot\u001b[0m\u001b[1;33m=\u001b[0m\u001b[0mtelegram\u001b[0m\u001b[1;33m.\u001b[0m\u001b[0mbot\u001b[0m\u001b[1;33m(\u001b[0m\u001b[0mtoken\u001b[0m\u001b[1;33m=\u001b[0m\u001b[1;34m'1869873243:AAH6L-GEiQO0PqOxVNf5zfjO_qkIxuyXAm4'\u001b[0m\u001b[1;33m)\u001b[0m\u001b[1;33m\u001b[0m\u001b[1;33m\u001b[0m\u001b[0m\n\u001b[0m",
      "\u001b[1;31mTypeError\u001b[0m: 'module' object is not callable"
     ]
    }
   ],
   "source": [
    "import telegram\n",
    "Bot=telegram.bot(token='1869873243:AAH6L-GEiQO0PqOxVNf5zfjO_qkIxuyXAm4')"
   ]
  },
  {
   "cell_type": "code",
   "execution_count": 25,
   "id": "00699e23",
   "metadata": {},
   "outputs": [],
   "source": [
    "from telegram.ext import Updater, CommandHandler, MessageHandler, Filters\n",
    "updater = Updater(token='1869873243:AAH6L-GEiQO0PqOxVNf5zfjO_qkIxuyXAm4', use_context=True) #Replace TOKEN with your token string\n",
    "dispatcher = updater.dispatcher"
   ]
  },
  {
   "cell_type": "code",
   "execution_count": 29,
   "id": "653aa796",
   "metadata": {},
   "outputs": [],
   "source": [
    "def hello(update, context):\n",
    "    context.bot.send_message(chat_id=update.effective_chat.id, text='Hello, World')"
   ]
  },
  {
   "cell_type": "code",
   "execution_count": 30,
   "id": "72317bbf",
   "metadata": {},
   "outputs": [],
   "source": [
    "hello_handler = CommandHandler('hello', hello)\n",
    "dispatcher.add_handler(hello_handler)"
   ]
  },
  {
   "cell_type": "code",
   "execution_count": 31,
   "id": "132a7713",
   "metadata": {},
   "outputs": [
    {
     "data": {
      "text/plain": [
       "<queue.Queue at 0x1f46b8b0e08>"
      ]
     },
     "execution_count": 31,
     "metadata": {},
     "output_type": "execute_result"
    }
   ],
   "source": [
    "updater.start_polling()"
   ]
  },
  {
   "cell_type": "code",
   "execution_count": 33,
   "id": "16fe645a",
   "metadata": {},
   "outputs": [
    {
     "name": "stdout",
     "output_type": "stream",
     "text": [
      "{'NewConfirmed': 0, 'TotalConfirmed': 0, 'NewDeaths': 0, 'TotalDeaths': 0, 'NewRecovered': 0, 'TotalRecovered': 0, 'Date': '0001-01-01T00:00:00Z'}\n"
     ]
    }
   ],
   "source": [
    "import requests\n",
    "import json\n",
    "def summary(update, context):\n",
    "    response = requests.get('https://api.covid19api.com/summary')\n",
    "    if(response.status_code==200): #Everything went okay, we have the data\n",
    "        data = response.json()\n",
    "        print(data['Global'])\n",
    "        context.bot.send_message(chat_id=update.effective_chat.id, text=data['Global'])\n",
    "    else: #something went wrong\n",
    "        context.bot.send_message(chat_id=update.effective_chat.id, text=\"Error, something went wrong.\")\n",
    "\n",
    "corona_summary_handler = CommandHandler('summary', summary)\n",
    "dispatcher.add_handler(corona_summary_handler)"
   ]
  },
  {
   "cell_type": "code",
   "execution_count": 35,
   "id": "e1811344",
   "metadata": {},
   "outputs": [
    {
     "data": {
      "text/plain": [
       "{'fileSizeBytes': 143832,\n",
       " 'url': 'https://random.dog/63d52a36-2d98-494c-bbe9-d96ddc814040.jpg'}"
      ]
     },
     "execution_count": 35,
     "metadata": {},
     "output_type": "execute_result"
    }
   ],
   "source": [
    "contents = requests.get('https://random.dog/woof.json').json()\n",
    "contents"
   ]
  },
  {
   "cell_type": "code",
   "execution_count": null,
   "id": "ba70ed34",
   "metadata": {},
   "outputs": [
    {
     "name": "stderr",
     "output_type": "stream",
     "text": [
      "Error while getting Updates: Conflict: terminated by other getUpdates request; make sure that only one bot instance is running\n",
      "No error handlers are registered, logging exception.\n",
      "Traceback (most recent call last):\n",
      "  File \"C:\\Users\\DELL\\AppData\\Local\\Programs\\Python\\Python37\\lib\\site-packages\\telegram\\ext\\updater.py\", line 646, in _network_loop_retry\n",
      "    if not action_cb():\n",
      "  File \"C:\\Users\\DELL\\AppData\\Local\\Programs\\Python\\Python37\\lib\\site-packages\\telegram\\ext\\updater.py\", line 601, in polling_action_cb\n",
      "    allowed_updates=allowed_updates,\n",
      "  File \"C:\\Users\\DELL\\AppData\\Local\\Programs\\Python\\Python37\\lib\\site-packages\\telegram\\ext\\extbot.py\", line 228, in get_updates\n",
      "    api_kwargs=api_kwargs,\n",
      "  File \"C:\\Users\\DELL\\AppData\\Local\\Programs\\Python\\Python37\\lib\\site-packages\\telegram\\bot.py\", line 130, in decorator\n",
      "    result = func(*args, **kwargs)\n",
      "  File \"C:\\Users\\DELL\\AppData\\Local\\Programs\\Python\\Python37\\lib\\site-packages\\telegram\\bot.py\", line 2865, in get_updates\n",
      "    api_kwargs=api_kwargs,\n",
      "  File \"C:\\Users\\DELL\\AppData\\Local\\Programs\\Python\\Python37\\lib\\site-packages\\telegram\\bot.py\", line 296, in _post\n",
      "    f'{self.base_url}/{endpoint}', data=data, timeout=effective_timeout\n",
      "  File \"C:\\Users\\DELL\\AppData\\Local\\Programs\\Python\\Python37\\lib\\site-packages\\telegram\\utils\\request.py\", line 361, in post\n",
      "    **urlopen_kwargs,\n",
      "  File \"C:\\Users\\DELL\\AppData\\Local\\Programs\\Python\\Python37\\lib\\site-packages\\telegram\\utils\\request.py\", line 283, in _request_wrapper\n",
      "    raise Conflict(message)\n",
      "telegram.error.Conflict: Conflict: terminated by other getUpdates request; make sure that only one bot instance is running\n",
      "Error while getting Updates: Conflict: terminated by other getUpdates request; make sure that only one bot instance is running\n",
      "No error handlers are registered, logging exception.\n",
      "Traceback (most recent call last):\n",
      "  File \"C:\\Users\\DELL\\AppData\\Local\\Programs\\Python\\Python37\\lib\\site-packages\\telegram\\ext\\updater.py\", line 646, in _network_loop_retry\n",
      "    if not action_cb():\n",
      "  File \"C:\\Users\\DELL\\AppData\\Local\\Programs\\Python\\Python37\\lib\\site-packages\\telegram\\ext\\updater.py\", line 601, in polling_action_cb\n",
      "    allowed_updates=allowed_updates,\n",
      "  File \"C:\\Users\\DELL\\AppData\\Local\\Programs\\Python\\Python37\\lib\\site-packages\\telegram\\ext\\extbot.py\", line 228, in get_updates\n",
      "    api_kwargs=api_kwargs,\n",
      "  File \"C:\\Users\\DELL\\AppData\\Local\\Programs\\Python\\Python37\\lib\\site-packages\\telegram\\bot.py\", line 130, in decorator\n",
      "    result = func(*args, **kwargs)\n",
      "  File \"C:\\Users\\DELL\\AppData\\Local\\Programs\\Python\\Python37\\lib\\site-packages\\telegram\\bot.py\", line 2865, in get_updates\n",
      "    api_kwargs=api_kwargs,\n",
      "  File \"C:\\Users\\DELL\\AppData\\Local\\Programs\\Python\\Python37\\lib\\site-packages\\telegram\\bot.py\", line 296, in _post\n",
      "    f'{self.base_url}/{endpoint}', data=data, timeout=effective_timeout\n",
      "  File \"C:\\Users\\DELL\\AppData\\Local\\Programs\\Python\\Python37\\lib\\site-packages\\telegram\\utils\\request.py\", line 361, in post\n",
      "    **urlopen_kwargs,\n",
      "  File \"C:\\Users\\DELL\\AppData\\Local\\Programs\\Python\\Python37\\lib\\site-packages\\telegram\\utils\\request.py\", line 283, in _request_wrapper\n",
      "    raise Conflict(message)\n",
      "telegram.error.Conflict: Conflict: terminated by other getUpdates request; make sure that only one bot instance is running\n",
      "Error while getting Updates: Conflict: terminated by other getUpdates request; make sure that only one bot instance is running\n",
      "No error handlers are registered, logging exception.\n",
      "Traceback (most recent call last):\n",
      "  File \"C:\\Users\\DELL\\AppData\\Local\\Programs\\Python\\Python37\\lib\\site-packages\\telegram\\ext\\updater.py\", line 646, in _network_loop_retry\n",
      "    if not action_cb():\n",
      "  File \"C:\\Users\\DELL\\AppData\\Local\\Programs\\Python\\Python37\\lib\\site-packages\\telegram\\ext\\updater.py\", line 601, in polling_action_cb\n",
      "    allowed_updates=allowed_updates,\n",
      "  File \"C:\\Users\\DELL\\AppData\\Local\\Programs\\Python\\Python37\\lib\\site-packages\\telegram\\ext\\extbot.py\", line 228, in get_updates\n",
      "    api_kwargs=api_kwargs,\n",
      "  File \"C:\\Users\\DELL\\AppData\\Local\\Programs\\Python\\Python37\\lib\\site-packages\\telegram\\bot.py\", line 130, in decorator\n",
      "    result = func(*args, **kwargs)\n",
      "  File \"C:\\Users\\DELL\\AppData\\Local\\Programs\\Python\\Python37\\lib\\site-packages\\telegram\\bot.py\", line 2865, in get_updates\n",
      "    api_kwargs=api_kwargs,\n",
      "  File \"C:\\Users\\DELL\\AppData\\Local\\Programs\\Python\\Python37\\lib\\site-packages\\telegram\\bot.py\", line 296, in _post\n",
      "    f'{self.base_url}/{endpoint}', data=data, timeout=effective_timeout\n",
      "  File \"C:\\Users\\DELL\\AppData\\Local\\Programs\\Python\\Python37\\lib\\site-packages\\telegram\\utils\\request.py\", line 361, in post\n",
      "    **urlopen_kwargs,\n",
      "  File \"C:\\Users\\DELL\\AppData\\Local\\Programs\\Python\\Python37\\lib\\site-packages\\telegram\\utils\\request.py\", line 283, in _request_wrapper\n",
      "    raise Conflict(message)\n",
      "telegram.error.Conflict: Conflict: terminated by other getUpdates request; make sure that only one bot instance is running\n",
      "Error while getting Updates: Conflict: terminated by other getUpdates request; make sure that only one bot instance is running\n",
      "No error handlers are registered, logging exception.\n",
      "Traceback (most recent call last):\n",
      "  File \"C:\\Users\\DELL\\AppData\\Local\\Programs\\Python\\Python37\\lib\\site-packages\\telegram\\ext\\updater.py\", line 646, in _network_loop_retry\n",
      "    if not action_cb():\n",
      "  File \"C:\\Users\\DELL\\AppData\\Local\\Programs\\Python\\Python37\\lib\\site-packages\\telegram\\ext\\updater.py\", line 601, in polling_action_cb\n",
      "    allowed_updates=allowed_updates,\n",
      "  File \"C:\\Users\\DELL\\AppData\\Local\\Programs\\Python\\Python37\\lib\\site-packages\\telegram\\ext\\extbot.py\", line 228, in get_updates\n",
      "    api_kwargs=api_kwargs,\n",
      "  File \"C:\\Users\\DELL\\AppData\\Local\\Programs\\Python\\Python37\\lib\\site-packages\\telegram\\bot.py\", line 130, in decorator\n",
      "    result = func(*args, **kwargs)\n",
      "  File \"C:\\Users\\DELL\\AppData\\Local\\Programs\\Python\\Python37\\lib\\site-packages\\telegram\\bot.py\", line 2865, in get_updates\n",
      "    api_kwargs=api_kwargs,\n",
      "  File \"C:\\Users\\DELL\\AppData\\Local\\Programs\\Python\\Python37\\lib\\site-packages\\telegram\\bot.py\", line 296, in _post\n",
      "    f'{self.base_url}/{endpoint}', data=data, timeout=effective_timeout\n",
      "  File \"C:\\Users\\DELL\\AppData\\Local\\Programs\\Python\\Python37\\lib\\site-packages\\telegram\\utils\\request.py\", line 361, in post\n",
      "    **urlopen_kwargs,\n",
      "  File \"C:\\Users\\DELL\\AppData\\Local\\Programs\\Python\\Python37\\lib\\site-packages\\telegram\\utils\\request.py\", line 283, in _request_wrapper\n",
      "    raise Conflict(message)\n",
      "telegram.error.Conflict: Conflict: terminated by other getUpdates request; make sure that only one bot instance is running\n",
      "Error while getting Updates: Conflict: terminated by other getUpdates request; make sure that only one bot instance is running\n",
      "No error handlers are registered, logging exception.\n",
      "Traceback (most recent call last):\n",
      "  File \"C:\\Users\\DELL\\AppData\\Local\\Programs\\Python\\Python37\\lib\\site-packages\\telegram\\ext\\updater.py\", line 646, in _network_loop_retry\n",
      "    if not action_cb():\n",
      "  File \"C:\\Users\\DELL\\AppData\\Local\\Programs\\Python\\Python37\\lib\\site-packages\\telegram\\ext\\updater.py\", line 601, in polling_action_cb\n",
      "    allowed_updates=allowed_updates,\n",
      "  File \"C:\\Users\\DELL\\AppData\\Local\\Programs\\Python\\Python37\\lib\\site-packages\\telegram\\ext\\extbot.py\", line 228, in get_updates\n",
      "    api_kwargs=api_kwargs,\n",
      "  File \"C:\\Users\\DELL\\AppData\\Local\\Programs\\Python\\Python37\\lib\\site-packages\\telegram\\bot.py\", line 130, in decorator\n",
      "    result = func(*args, **kwargs)\n",
      "  File \"C:\\Users\\DELL\\AppData\\Local\\Programs\\Python\\Python37\\lib\\site-packages\\telegram\\bot.py\", line 2865, in get_updates\n",
      "    api_kwargs=api_kwargs,\n",
      "  File \"C:\\Users\\DELL\\AppData\\Local\\Programs\\Python\\Python37\\lib\\site-packages\\telegram\\bot.py\", line 296, in _post\n",
      "    f'{self.base_url}/{endpoint}', data=data, timeout=effective_timeout\n",
      "  File \"C:\\Users\\DELL\\AppData\\Local\\Programs\\Python\\Python37\\lib\\site-packages\\telegram\\utils\\request.py\", line 361, in post\n",
      "    **urlopen_kwargs,\n",
      "  File \"C:\\Users\\DELL\\AppData\\Local\\Programs\\Python\\Python37\\lib\\site-packages\\telegram\\utils\\request.py\", line 283, in _request_wrapper\n",
      "    raise Conflict(message)\n",
      "telegram.error.Conflict: Conflict: terminated by other getUpdates request; make sure that only one bot instance is running\n",
      "Error while getting Updates: Conflict: terminated by other getUpdates request; make sure that only one bot instance is running\n"
     ]
    },
    {
     "name": "stderr",
     "output_type": "stream",
     "text": [
      "No error handlers are registered, logging exception.\n",
      "Traceback (most recent call last):\n",
      "  File \"C:\\Users\\DELL\\AppData\\Local\\Programs\\Python\\Python37\\lib\\site-packages\\telegram\\ext\\updater.py\", line 646, in _network_loop_retry\n",
      "    if not action_cb():\n",
      "  File \"C:\\Users\\DELL\\AppData\\Local\\Programs\\Python\\Python37\\lib\\site-packages\\telegram\\ext\\updater.py\", line 601, in polling_action_cb\n",
      "    allowed_updates=allowed_updates,\n",
      "  File \"C:\\Users\\DELL\\AppData\\Local\\Programs\\Python\\Python37\\lib\\site-packages\\telegram\\ext\\extbot.py\", line 228, in get_updates\n",
      "    api_kwargs=api_kwargs,\n",
      "  File \"C:\\Users\\DELL\\AppData\\Local\\Programs\\Python\\Python37\\lib\\site-packages\\telegram\\bot.py\", line 130, in decorator\n",
      "    result = func(*args, **kwargs)\n",
      "  File \"C:\\Users\\DELL\\AppData\\Local\\Programs\\Python\\Python37\\lib\\site-packages\\telegram\\bot.py\", line 2865, in get_updates\n",
      "    api_kwargs=api_kwargs,\n",
      "  File \"C:\\Users\\DELL\\AppData\\Local\\Programs\\Python\\Python37\\lib\\site-packages\\telegram\\bot.py\", line 296, in _post\n",
      "    f'{self.base_url}/{endpoint}', data=data, timeout=effective_timeout\n",
      "  File \"C:\\Users\\DELL\\AppData\\Local\\Programs\\Python\\Python37\\lib\\site-packages\\telegram\\utils\\request.py\", line 361, in post\n",
      "    **urlopen_kwargs,\n",
      "  File \"C:\\Users\\DELL\\AppData\\Local\\Programs\\Python\\Python37\\lib\\site-packages\\telegram\\utils\\request.py\", line 283, in _request_wrapper\n",
      "    raise Conflict(message)\n",
      "telegram.error.Conflict: Conflict: terminated by other getUpdates request; make sure that only one bot instance is running\n",
      "Error while getting Updates: Conflict: terminated by other getUpdates request; make sure that only one bot instance is running\n",
      "No error handlers are registered, logging exception.\n",
      "Traceback (most recent call last):\n",
      "  File \"C:\\Users\\DELL\\AppData\\Local\\Programs\\Python\\Python37\\lib\\site-packages\\telegram\\ext\\updater.py\", line 646, in _network_loop_retry\n",
      "    if not action_cb():\n",
      "  File \"C:\\Users\\DELL\\AppData\\Local\\Programs\\Python\\Python37\\lib\\site-packages\\telegram\\ext\\updater.py\", line 601, in polling_action_cb\n",
      "    allowed_updates=allowed_updates,\n",
      "  File \"C:\\Users\\DELL\\AppData\\Local\\Programs\\Python\\Python37\\lib\\site-packages\\telegram\\ext\\extbot.py\", line 228, in get_updates\n",
      "    api_kwargs=api_kwargs,\n",
      "  File \"C:\\Users\\DELL\\AppData\\Local\\Programs\\Python\\Python37\\lib\\site-packages\\telegram\\bot.py\", line 130, in decorator\n",
      "    result = func(*args, **kwargs)\n",
      "  File \"C:\\Users\\DELL\\AppData\\Local\\Programs\\Python\\Python37\\lib\\site-packages\\telegram\\bot.py\", line 2865, in get_updates\n",
      "    api_kwargs=api_kwargs,\n",
      "  File \"C:\\Users\\DELL\\AppData\\Local\\Programs\\Python\\Python37\\lib\\site-packages\\telegram\\bot.py\", line 296, in _post\n",
      "    f'{self.base_url}/{endpoint}', data=data, timeout=effective_timeout\n",
      "  File \"C:\\Users\\DELL\\AppData\\Local\\Programs\\Python\\Python37\\lib\\site-packages\\telegram\\utils\\request.py\", line 361, in post\n",
      "    **urlopen_kwargs,\n",
      "  File \"C:\\Users\\DELL\\AppData\\Local\\Programs\\Python\\Python37\\lib\\site-packages\\telegram\\utils\\request.py\", line 283, in _request_wrapper\n",
      "    raise Conflict(message)\n",
      "telegram.error.Conflict: Conflict: terminated by other getUpdates request; make sure that only one bot instance is running\n",
      "Error while getting Updates: Conflict: terminated by other getUpdates request; make sure that only one bot instance is running\n",
      "No error handlers are registered, logging exception.\n",
      "Traceback (most recent call last):\n",
      "  File \"C:\\Users\\DELL\\AppData\\Local\\Programs\\Python\\Python37\\lib\\site-packages\\telegram\\ext\\updater.py\", line 646, in _network_loop_retry\n",
      "    if not action_cb():\n",
      "  File \"C:\\Users\\DELL\\AppData\\Local\\Programs\\Python\\Python37\\lib\\site-packages\\telegram\\ext\\updater.py\", line 601, in polling_action_cb\n",
      "    allowed_updates=allowed_updates,\n",
      "  File \"C:\\Users\\DELL\\AppData\\Local\\Programs\\Python\\Python37\\lib\\site-packages\\telegram\\ext\\extbot.py\", line 228, in get_updates\n",
      "    api_kwargs=api_kwargs,\n",
      "  File \"C:\\Users\\DELL\\AppData\\Local\\Programs\\Python\\Python37\\lib\\site-packages\\telegram\\bot.py\", line 130, in decorator\n",
      "    result = func(*args, **kwargs)\n",
      "  File \"C:\\Users\\DELL\\AppData\\Local\\Programs\\Python\\Python37\\lib\\site-packages\\telegram\\bot.py\", line 2865, in get_updates\n",
      "    api_kwargs=api_kwargs,\n",
      "  File \"C:\\Users\\DELL\\AppData\\Local\\Programs\\Python\\Python37\\lib\\site-packages\\telegram\\bot.py\", line 296, in _post\n",
      "    f'{self.base_url}/{endpoint}', data=data, timeout=effective_timeout\n",
      "  File \"C:\\Users\\DELL\\AppData\\Local\\Programs\\Python\\Python37\\lib\\site-packages\\telegram\\utils\\request.py\", line 361, in post\n",
      "    **urlopen_kwargs,\n",
      "  File \"C:\\Users\\DELL\\AppData\\Local\\Programs\\Python\\Python37\\lib\\site-packages\\telegram\\utils\\request.py\", line 283, in _request_wrapper\n",
      "    raise Conflict(message)\n",
      "telegram.error.Conflict: Conflict: terminated by other getUpdates request; make sure that only one bot instance is running\n",
      "Error while getting Updates: Conflict: terminated by other getUpdates request; make sure that only one bot instance is running\n",
      "No error handlers are registered, logging exception.\n",
      "Traceback (most recent call last):\n",
      "  File \"C:\\Users\\DELL\\AppData\\Local\\Programs\\Python\\Python37\\lib\\site-packages\\telegram\\ext\\updater.py\", line 646, in _network_loop_retry\n",
      "    if not action_cb():\n",
      "  File \"C:\\Users\\DELL\\AppData\\Local\\Programs\\Python\\Python37\\lib\\site-packages\\telegram\\ext\\updater.py\", line 601, in polling_action_cb\n",
      "    allowed_updates=allowed_updates,\n",
      "  File \"C:\\Users\\DELL\\AppData\\Local\\Programs\\Python\\Python37\\lib\\site-packages\\telegram\\ext\\extbot.py\", line 228, in get_updates\n",
      "    api_kwargs=api_kwargs,\n",
      "  File \"C:\\Users\\DELL\\AppData\\Local\\Programs\\Python\\Python37\\lib\\site-packages\\telegram\\bot.py\", line 130, in decorator\n",
      "    result = func(*args, **kwargs)\n",
      "  File \"C:\\Users\\DELL\\AppData\\Local\\Programs\\Python\\Python37\\lib\\site-packages\\telegram\\bot.py\", line 2865, in get_updates\n",
      "    api_kwargs=api_kwargs,\n",
      "  File \"C:\\Users\\DELL\\AppData\\Local\\Programs\\Python\\Python37\\lib\\site-packages\\telegram\\bot.py\", line 296, in _post\n",
      "    f'{self.base_url}/{endpoint}', data=data, timeout=effective_timeout\n",
      "  File \"C:\\Users\\DELL\\AppData\\Local\\Programs\\Python\\Python37\\lib\\site-packages\\telegram\\utils\\request.py\", line 361, in post\n",
      "    **urlopen_kwargs,\n",
      "  File \"C:\\Users\\DELL\\AppData\\Local\\Programs\\Python\\Python37\\lib\\site-packages\\telegram\\utils\\request.py\", line 283, in _request_wrapper\n",
      "    raise Conflict(message)\n",
      "telegram.error.Conflict: Conflict: terminated by other getUpdates request; make sure that only one bot instance is running\n",
      "Error while getting Updates: Conflict: terminated by other getUpdates request; make sure that only one bot instance is running\n",
      "No error handlers are registered, logging exception.\n",
      "Traceback (most recent call last):\n",
      "  File \"C:\\Users\\DELL\\AppData\\Local\\Programs\\Python\\Python37\\lib\\site-packages\\telegram\\ext\\updater.py\", line 646, in _network_loop_retry\n",
      "    if not action_cb():\n",
      "  File \"C:\\Users\\DELL\\AppData\\Local\\Programs\\Python\\Python37\\lib\\site-packages\\telegram\\ext\\updater.py\", line 601, in polling_action_cb\n",
      "    allowed_updates=allowed_updates,\n",
      "  File \"C:\\Users\\DELL\\AppData\\Local\\Programs\\Python\\Python37\\lib\\site-packages\\telegram\\ext\\extbot.py\", line 228, in get_updates\n",
      "    api_kwargs=api_kwargs,\n",
      "  File \"C:\\Users\\DELL\\AppData\\Local\\Programs\\Python\\Python37\\lib\\site-packages\\telegram\\bot.py\", line 130, in decorator\n",
      "    result = func(*args, **kwargs)\n",
      "  File \"C:\\Users\\DELL\\AppData\\Local\\Programs\\Python\\Python37\\lib\\site-packages\\telegram\\bot.py\", line 2865, in get_updates\n",
      "    api_kwargs=api_kwargs,\n",
      "  File \"C:\\Users\\DELL\\AppData\\Local\\Programs\\Python\\Python37\\lib\\site-packages\\telegram\\bot.py\", line 296, in _post\n",
      "    f'{self.base_url}/{endpoint}', data=data, timeout=effective_timeout\n",
      "  File \"C:\\Users\\DELL\\AppData\\Local\\Programs\\Python\\Python37\\lib\\site-packages\\telegram\\utils\\request.py\", line 361, in post\n",
      "    **urlopen_kwargs,\n",
      "  File \"C:\\Users\\DELL\\AppData\\Local\\Programs\\Python\\Python37\\lib\\site-packages\\telegram\\utils\\request.py\", line 283, in _request_wrapper\n",
      "    raise Conflict(message)\n",
      "telegram.error.Conflict: Conflict: terminated by other getUpdates request; make sure that only one bot instance is running\n"
     ]
    }
   ],
   "source": [
    "from telegram.ext import Updater, InlineQueryHandler, CommandHandler\n",
    "import requests\n",
    "import re\n",
    "\n",
    "def get_url():\n",
    "    contents = requests.get('https://random.dog/woof.json').json()    \n",
    "    url = contents['url']\n",
    "    return url\n",
    "\n",
    "def bop(bot, update):\n",
    "    url = get_url()\n",
    "    chat_id = update.message.chat_id\n",
    "    bot.send_photo(chat_id=chat_id, photo=url)\n",
    "\n",
    "def main():\n",
    "    updater = Updater('1935280117:AAH3CBBu8v_er4Vdb7N8z2mkD_KB13-eK8w')\n",
    "    dp = updater.dispatcher\n",
    "    dp.add_handler(CommandHandler('bop',bop))\n",
    "    updater.start_polling()\n",
    "    updater.idle()\n",
    "\n",
    "if __name__ == '__main__':\n",
    "    main()\n",
    "\n",
    "\n",
    "\n",
    "\n",
    "    "
   ]
  },
  {
   "cell_type": "code",
   "execution_count": null,
   "id": "98bd7d4e",
   "metadata": {},
   "outputs": [],
   "source": []
  },
  {
   "cell_type": "code",
   "execution_count": null,
   "id": "238eacc0",
   "metadata": {},
   "outputs": [],
   "source": []
  }
 ],
 "metadata": {
  "kernelspec": {
   "display_name": "Python 3",
   "language": "python",
   "name": "python3"
  },
  "language_info": {
   "codemirror_mode": {
    "name": "ipython",
    "version": 3
   },
   "file_extension": ".py",
   "mimetype": "text/x-python",
   "name": "python",
   "nbconvert_exporter": "python",
   "pygments_lexer": "ipython3",
   "version": "3.7.9"
  }
 },
 "nbformat": 4,
 "nbformat_minor": 5
}
